{
  "nbformat": 4,
  "nbformat_minor": 0,
  "metadata": {
    "colab": {
      "name": "RainPred_Forest.ipynb",
      "provenance": []
    },
    "kernelspec": {
      "name": "python3",
      "display_name": "Python 3"
    },
    "language_info": {
      "name": "python"
    }
  },
  "cells": [
    {
      "cell_type": "code",
      "execution_count": null,
      "metadata": {
        "id": "6v6sjRAzP72h"
      },
      "outputs": [],
      "source": [
        "import pandas as pd\n",
        "import numpy as np\n",
        "\n",
        "import matplotlib.pyplot as plt\n",
        "import seaborn as sns\n",
        "from imblearn.over_sampling import SMOTE\n",
        "from sklearn.model_selection import train_test_split\n",
        "from sklearn.ensemble import RandomForestClassifier\n",
        "from sklearn import metrics\n",
        "from sklearn.preprocessing import StandardScaler"
      ]
    },
    {
      "cell_type": "code",
      "source": [
        "df = pd.read_csv('/content/drive/MyDrive/weatherAUS.csv')\n",
        "df.head()"
      ],
      "metadata": {
        "colab": {
          "base_uri": "https://localhost:8080/",
          "height": 270
        },
        "id": "hAw9ImRfQGbv",
        "outputId": "ef9cc2cc-cc21-4529-f797-6acd2e88c80e"
      },
      "execution_count": null,
      "outputs": [
        {
          "output_type": "execute_result",
          "data": {
            "text/html": [
              "\n",
              "  <div id=\"df-69ed7e44-5671-4af4-b566-cb27a535aa51\">\n",
              "    <div class=\"colab-df-container\">\n",
              "      <div>\n",
              "<style scoped>\n",
              "    .dataframe tbody tr th:only-of-type {\n",
              "        vertical-align: middle;\n",
              "    }\n",
              "\n",
              "    .dataframe tbody tr th {\n",
              "        vertical-align: top;\n",
              "    }\n",
              "\n",
              "    .dataframe thead th {\n",
              "        text-align: right;\n",
              "    }\n",
              "</style>\n",
              "<table border=\"1\" class=\"dataframe\">\n",
              "  <thead>\n",
              "    <tr style=\"text-align: right;\">\n",
              "      <th></th>\n",
              "      <th>Date</th>\n",
              "      <th>Location</th>\n",
              "      <th>MinTemp</th>\n",
              "      <th>MaxTemp</th>\n",
              "      <th>Rainfall</th>\n",
              "      <th>Evaporation</th>\n",
              "      <th>Sunshine</th>\n",
              "      <th>WindGustDir</th>\n",
              "      <th>WindGustSpeed</th>\n",
              "      <th>WindDir9am</th>\n",
              "      <th>WindDir3pm</th>\n",
              "      <th>WindSpeed9am</th>\n",
              "      <th>WindSpeed3pm</th>\n",
              "      <th>Humidity9am</th>\n",
              "      <th>Humidity3pm</th>\n",
              "      <th>Pressure9am</th>\n",
              "      <th>Pressure3pm</th>\n",
              "      <th>Cloud9am</th>\n",
              "      <th>Cloud3pm</th>\n",
              "      <th>Temp9am</th>\n",
              "      <th>Temp3pm</th>\n",
              "      <th>RainToday</th>\n",
              "      <th>RainTomorrow</th>\n",
              "    </tr>\n",
              "  </thead>\n",
              "  <tbody>\n",
              "    <tr>\n",
              "      <th>0</th>\n",
              "      <td>2008-12-01</td>\n",
              "      <td>Albury</td>\n",
              "      <td>13.4</td>\n",
              "      <td>22.9</td>\n",
              "      <td>0.6</td>\n",
              "      <td>NaN</td>\n",
              "      <td>NaN</td>\n",
              "      <td>W</td>\n",
              "      <td>44.0</td>\n",
              "      <td>W</td>\n",
              "      <td>WNW</td>\n",
              "      <td>20.0</td>\n",
              "      <td>24.0</td>\n",
              "      <td>71.0</td>\n",
              "      <td>22.0</td>\n",
              "      <td>1007.7</td>\n",
              "      <td>1007.1</td>\n",
              "      <td>8.0</td>\n",
              "      <td>NaN</td>\n",
              "      <td>16.9</td>\n",
              "      <td>21.8</td>\n",
              "      <td>No</td>\n",
              "      <td>No</td>\n",
              "    </tr>\n",
              "    <tr>\n",
              "      <th>1</th>\n",
              "      <td>2008-12-02</td>\n",
              "      <td>Albury</td>\n",
              "      <td>7.4</td>\n",
              "      <td>25.1</td>\n",
              "      <td>0.0</td>\n",
              "      <td>NaN</td>\n",
              "      <td>NaN</td>\n",
              "      <td>WNW</td>\n",
              "      <td>44.0</td>\n",
              "      <td>NNW</td>\n",
              "      <td>WSW</td>\n",
              "      <td>4.0</td>\n",
              "      <td>22.0</td>\n",
              "      <td>44.0</td>\n",
              "      <td>25.0</td>\n",
              "      <td>1010.6</td>\n",
              "      <td>1007.8</td>\n",
              "      <td>NaN</td>\n",
              "      <td>NaN</td>\n",
              "      <td>17.2</td>\n",
              "      <td>24.3</td>\n",
              "      <td>No</td>\n",
              "      <td>No</td>\n",
              "    </tr>\n",
              "    <tr>\n",
              "      <th>2</th>\n",
              "      <td>2008-12-03</td>\n",
              "      <td>Albury</td>\n",
              "      <td>12.9</td>\n",
              "      <td>25.7</td>\n",
              "      <td>0.0</td>\n",
              "      <td>NaN</td>\n",
              "      <td>NaN</td>\n",
              "      <td>WSW</td>\n",
              "      <td>46.0</td>\n",
              "      <td>W</td>\n",
              "      <td>WSW</td>\n",
              "      <td>19.0</td>\n",
              "      <td>26.0</td>\n",
              "      <td>38.0</td>\n",
              "      <td>30.0</td>\n",
              "      <td>1007.6</td>\n",
              "      <td>1008.7</td>\n",
              "      <td>NaN</td>\n",
              "      <td>2.0</td>\n",
              "      <td>21.0</td>\n",
              "      <td>23.2</td>\n",
              "      <td>No</td>\n",
              "      <td>No</td>\n",
              "    </tr>\n",
              "    <tr>\n",
              "      <th>3</th>\n",
              "      <td>2008-12-04</td>\n",
              "      <td>Albury</td>\n",
              "      <td>9.2</td>\n",
              "      <td>28.0</td>\n",
              "      <td>0.0</td>\n",
              "      <td>NaN</td>\n",
              "      <td>NaN</td>\n",
              "      <td>NE</td>\n",
              "      <td>24.0</td>\n",
              "      <td>SE</td>\n",
              "      <td>E</td>\n",
              "      <td>11.0</td>\n",
              "      <td>9.0</td>\n",
              "      <td>45.0</td>\n",
              "      <td>16.0</td>\n",
              "      <td>1017.6</td>\n",
              "      <td>1012.8</td>\n",
              "      <td>NaN</td>\n",
              "      <td>NaN</td>\n",
              "      <td>18.1</td>\n",
              "      <td>26.5</td>\n",
              "      <td>No</td>\n",
              "      <td>No</td>\n",
              "    </tr>\n",
              "    <tr>\n",
              "      <th>4</th>\n",
              "      <td>2008-12-05</td>\n",
              "      <td>Albury</td>\n",
              "      <td>17.5</td>\n",
              "      <td>32.3</td>\n",
              "      <td>1.0</td>\n",
              "      <td>NaN</td>\n",
              "      <td>NaN</td>\n",
              "      <td>W</td>\n",
              "      <td>41.0</td>\n",
              "      <td>ENE</td>\n",
              "      <td>NW</td>\n",
              "      <td>7.0</td>\n",
              "      <td>20.0</td>\n",
              "      <td>82.0</td>\n",
              "      <td>33.0</td>\n",
              "      <td>1010.8</td>\n",
              "      <td>1006.0</td>\n",
              "      <td>7.0</td>\n",
              "      <td>8.0</td>\n",
              "      <td>17.8</td>\n",
              "      <td>29.7</td>\n",
              "      <td>No</td>\n",
              "      <td>No</td>\n",
              "    </tr>\n",
              "  </tbody>\n",
              "</table>\n",
              "</div>\n",
              "      <button class=\"colab-df-convert\" onclick=\"convertToInteractive('df-69ed7e44-5671-4af4-b566-cb27a535aa51')\"\n",
              "              title=\"Convert this dataframe to an interactive table.\"\n",
              "              style=\"display:none;\">\n",
              "        \n",
              "  <svg xmlns=\"http://www.w3.org/2000/svg\" height=\"24px\"viewBox=\"0 0 24 24\"\n",
              "       width=\"24px\">\n",
              "    <path d=\"M0 0h24v24H0V0z\" fill=\"none\"/>\n",
              "    <path d=\"M18.56 5.44l.94 2.06.94-2.06 2.06-.94-2.06-.94-.94-2.06-.94 2.06-2.06.94zm-11 1L8.5 8.5l.94-2.06 2.06-.94-2.06-.94L8.5 2.5l-.94 2.06-2.06.94zm10 10l.94 2.06.94-2.06 2.06-.94-2.06-.94-.94-2.06-.94 2.06-2.06.94z\"/><path d=\"M17.41 7.96l-1.37-1.37c-.4-.4-.92-.59-1.43-.59-.52 0-1.04.2-1.43.59L10.3 9.45l-7.72 7.72c-.78.78-.78 2.05 0 2.83L4 21.41c.39.39.9.59 1.41.59.51 0 1.02-.2 1.41-.59l7.78-7.78 2.81-2.81c.8-.78.8-2.07 0-2.86zM5.41 20L4 18.59l7.72-7.72 1.47 1.35L5.41 20z\"/>\n",
              "  </svg>\n",
              "      </button>\n",
              "      \n",
              "  <style>\n",
              "    .colab-df-container {\n",
              "      display:flex;\n",
              "      flex-wrap:wrap;\n",
              "      gap: 12px;\n",
              "    }\n",
              "\n",
              "    .colab-df-convert {\n",
              "      background-color: #E8F0FE;\n",
              "      border: none;\n",
              "      border-radius: 50%;\n",
              "      cursor: pointer;\n",
              "      display: none;\n",
              "      fill: #1967D2;\n",
              "      height: 32px;\n",
              "      padding: 0 0 0 0;\n",
              "      width: 32px;\n",
              "    }\n",
              "\n",
              "    .colab-df-convert:hover {\n",
              "      background-color: #E2EBFA;\n",
              "      box-shadow: 0px 1px 2px rgba(60, 64, 67, 0.3), 0px 1px 3px 1px rgba(60, 64, 67, 0.15);\n",
              "      fill: #174EA6;\n",
              "    }\n",
              "\n",
              "    [theme=dark] .colab-df-convert {\n",
              "      background-color: #3B4455;\n",
              "      fill: #D2E3FC;\n",
              "    }\n",
              "\n",
              "    [theme=dark] .colab-df-convert:hover {\n",
              "      background-color: #434B5C;\n",
              "      box-shadow: 0px 1px 3px 1px rgba(0, 0, 0, 0.15);\n",
              "      filter: drop-shadow(0px 1px 2px rgba(0, 0, 0, 0.3));\n",
              "      fill: #FFFFFF;\n",
              "    }\n",
              "  </style>\n",
              "\n",
              "      <script>\n",
              "        const buttonEl =\n",
              "          document.querySelector('#df-69ed7e44-5671-4af4-b566-cb27a535aa51 button.colab-df-convert');\n",
              "        buttonEl.style.display =\n",
              "          google.colab.kernel.accessAllowed ? 'block' : 'none';\n",
              "\n",
              "        async function convertToInteractive(key) {\n",
              "          const element = document.querySelector('#df-69ed7e44-5671-4af4-b566-cb27a535aa51');\n",
              "          const dataTable =\n",
              "            await google.colab.kernel.invokeFunction('convertToInteractive',\n",
              "                                                     [key], {});\n",
              "          if (!dataTable) return;\n",
              "\n",
              "          const docLinkHtml = 'Like what you see? Visit the ' +\n",
              "            '<a target=\"_blank\" href=https://colab.research.google.com/notebooks/data_table.ipynb>data table notebook</a>'\n",
              "            + ' to learn more about interactive tables.';\n",
              "          element.innerHTML = '';\n",
              "          dataTable['output_type'] = 'display_data';\n",
              "          await google.colab.output.renderOutput(dataTable, element);\n",
              "          const docLink = document.createElement('div');\n",
              "          docLink.innerHTML = docLinkHtml;\n",
              "          element.appendChild(docLink);\n",
              "        }\n",
              "      </script>\n",
              "    </div>\n",
              "  </div>\n",
              "  "
            ],
            "text/plain": [
              "         Date Location  MinTemp  ...  Temp3pm  RainToday  RainTomorrow\n",
              "0  2008-12-01   Albury     13.4  ...     21.8         No            No\n",
              "1  2008-12-02   Albury      7.4  ...     24.3         No            No\n",
              "2  2008-12-03   Albury     12.9  ...     23.2         No            No\n",
              "3  2008-12-04   Albury      9.2  ...     26.5         No            No\n",
              "4  2008-12-05   Albury     17.5  ...     29.7         No            No\n",
              "\n",
              "[5 rows x 23 columns]"
            ]
          },
          "metadata": {},
          "execution_count": 48
        }
      ]
    },
    {
      "cell_type": "markdown",
      "source": [
        "#Preprocessing The Data "
      ],
      "metadata": {
        "id": "n5brlBgYQRpP"
      }
    },
    {
      "cell_type": "code",
      "source": [
        "df.info()"
      ],
      "metadata": {
        "colab": {
          "base_uri": "https://localhost:8080/"
        },
        "id": "JOgSTowqQW_1",
        "outputId": "65ad8e40-9aa6-4a22-d465-ef52b62d3366"
      },
      "execution_count": null,
      "outputs": [
        {
          "output_type": "stream",
          "name": "stdout",
          "text": [
            "<class 'pandas.core.frame.DataFrame'>\n",
            "RangeIndex: 145460 entries, 0 to 145459\n",
            "Data columns (total 23 columns):\n",
            " #   Column         Non-Null Count   Dtype  \n",
            "---  ------         --------------   -----  \n",
            " 0   Date           145460 non-null  object \n",
            " 1   Location       145460 non-null  object \n",
            " 2   MinTemp        143975 non-null  float64\n",
            " 3   MaxTemp        144199 non-null  float64\n",
            " 4   Rainfall       142199 non-null  float64\n",
            " 5   Evaporation    82670 non-null   float64\n",
            " 6   Sunshine       75625 non-null   float64\n",
            " 7   WindGustDir    135134 non-null  object \n",
            " 8   WindGustSpeed  135197 non-null  float64\n",
            " 9   WindDir9am     134894 non-null  object \n",
            " 10  WindDir3pm     141232 non-null  object \n",
            " 11  WindSpeed9am   143693 non-null  float64\n",
            " 12  WindSpeed3pm   142398 non-null  float64\n",
            " 13  Humidity9am    142806 non-null  float64\n",
            " 14  Humidity3pm    140953 non-null  float64\n",
            " 15  Pressure9am    130395 non-null  float64\n",
            " 16  Pressure3pm    130432 non-null  float64\n",
            " 17  Cloud9am       89572 non-null   float64\n",
            " 18  Cloud3pm       86102 non-null   float64\n",
            " 19  Temp9am        143693 non-null  float64\n",
            " 20  Temp3pm        141851 non-null  float64\n",
            " 21  RainToday      142199 non-null  object \n",
            " 22  RainTomorrow   142193 non-null  object \n",
            "dtypes: float64(16), object(7)\n",
            "memory usage: 25.5+ MB\n"
          ]
        }
      ]
    },
    {
      "cell_type": "code",
      "source": [
        "cFeatures = [columns_name for columns_name in df.columns if df[columns_name].dtype == \"O\"]\n",
        "print(f\"the number of categorical features present in the dataset is {len(cFeatures)}  \")\n",
        "print(f\"the categorical features present are as follows {cFeatures} \") #Getting the categorical features of this Dataset "
      ],
      "metadata": {
        "colab": {
          "base_uri": "https://localhost:8080/"
        },
        "id": "yyIl9isOQbLb",
        "outputId": "07ac1130-cb9c-4aea-a29a-05ee83d12c74"
      },
      "execution_count": null,
      "outputs": [
        {
          "output_type": "stream",
          "name": "stdout",
          "text": [
            "the number of categorical features present in the dataset is 7  \n",
            "the categorical features present are as follows ['Date', 'Location', 'WindGustDir', 'WindDir9am', 'WindDir3pm', 'RainToday', 'RainTomorrow'] \n"
          ]
        }
      ]
    },
    {
      "cell_type": "code",
      "source": [
        "nFeatures = [columns_name for columns_name in df.columns if df[columns_name].dtype != \"O\"]\n",
        "print(f\"the number of numerical features present in the dataset is {len(nFeatures)}  \")\n",
        "print(f\"the numerical features present are as follows {nFeatures} \") #getting the Numerical FEautures of dataset "
      ],
      "metadata": {
        "colab": {
          "base_uri": "https://localhost:8080/"
        },
        "id": "OtFbsvaJQkPw",
        "outputId": "2f92dd5f-93ed-4860-b4cd-b440cd475838"
      },
      "execution_count": null,
      "outputs": [
        {
          "output_type": "stream",
          "name": "stdout",
          "text": [
            "the number of numerical features present in the dataset is 16  \n",
            "the numerical features present are as follows ['MinTemp', 'MaxTemp', 'Rainfall', 'Evaporation', 'Sunshine', 'WindGustSpeed', 'WindSpeed9am', 'WindSpeed3pm', 'Humidity9am', 'Humidity3pm', 'Pressure9am', 'Pressure3pm', 'Cloud9am', 'Cloud3pm', 'Temp9am', 'Temp3pm'] \n"
          ]
        }
      ]
    },
    {
      "cell_type": "code",
      "source": [
        "for category in cFeatures:\n",
        "    count = len(df[category].unique())\n",
        "    print(f\"the cardinality of the column {category} is {count} \") #Cardinality of the dataset"
      ],
      "metadata": {
        "colab": {
          "base_uri": "https://localhost:8080/"
        },
        "id": "_8nL5I7FQ2xx",
        "outputId": "0a5d1343-3477-4a3b-ed22-0fa09f9ae827"
      },
      "execution_count": null,
      "outputs": [
        {
          "output_type": "stream",
          "name": "stdout",
          "text": [
            "the cardinality of the column Date is 3436 \n",
            "the cardinality of the column Location is 49 \n",
            "the cardinality of the column WindGustDir is 17 \n",
            "the cardinality of the column WindDir9am is 17 \n",
            "the cardinality of the column WindDir3pm is 17 \n",
            "the cardinality of the column RainToday is 3 \n",
            "the cardinality of the column RainTomorrow is 3 \n"
          ]
        }
      ]
    },
    {
      "cell_type": "code",
      "source": [
        "df[\"Date\"] = pd.to_datetime(df[\"Date\"]) \n",
        "\n",
        "df[\"year\"] = df[\"Date\"].dt.year\n",
        "df[\"month\"] = df[\"Date\"].dt.month\n",
        "df[\"day\"] = df[\"Date\"].dt.day\n",
        "# then need to drop the \"Date\" column\n",
        "df.drop(\"Date\", axis = 1, inplace = True)\n",
        "\n",
        "df.info() "
      ],
      "metadata": {
        "colab": {
          "base_uri": "https://localhost:8080/"
        },
        "id": "lTSmjfD4REuX",
        "outputId": "80190283-482d-4174-bb10-2552a2cb22b0"
      },
      "execution_count": null,
      "outputs": [
        {
          "output_type": "stream",
          "name": "stdout",
          "text": [
            "<class 'pandas.core.frame.DataFrame'>\n",
            "RangeIndex: 145460 entries, 0 to 145459\n",
            "Data columns (total 25 columns):\n",
            " #   Column         Non-Null Count   Dtype  \n",
            "---  ------         --------------   -----  \n",
            " 0   Location       145460 non-null  object \n",
            " 1   MinTemp        143975 non-null  float64\n",
            " 2   MaxTemp        144199 non-null  float64\n",
            " 3   Rainfall       142199 non-null  float64\n",
            " 4   Evaporation    82670 non-null   float64\n",
            " 5   Sunshine       75625 non-null   float64\n",
            " 6   WindGustDir    135134 non-null  object \n",
            " 7   WindGustSpeed  135197 non-null  float64\n",
            " 8   WindDir9am     134894 non-null  object \n",
            " 9   WindDir3pm     141232 non-null  object \n",
            " 10  WindSpeed9am   143693 non-null  float64\n",
            " 11  WindSpeed3pm   142398 non-null  float64\n",
            " 12  Humidity9am    142806 non-null  float64\n",
            " 13  Humidity3pm    140953 non-null  float64\n",
            " 14  Pressure9am    130395 non-null  float64\n",
            " 15  Pressure3pm    130432 non-null  float64\n",
            " 16  Cloud9am       89572 non-null   float64\n",
            " 17  Cloud3pm       86102 non-null   float64\n",
            " 18  Temp9am        143693 non-null  float64\n",
            " 19  Temp3pm        141851 non-null  float64\n",
            " 20  RainToday      142199 non-null  object \n",
            " 21  RainTomorrow   142193 non-null  object \n",
            " 22  year           145460 non-null  int64  \n",
            " 23  month          145460 non-null  int64  \n",
            " 24  day            145460 non-null  int64  \n",
            "dtypes: float64(16), int64(3), object(6)\n",
            "memory usage: 27.7+ MB\n"
          ]
        }
      ]
    },
    {
      "cell_type": "code",
      "source": [
        "cFeatures = [columns_name for columns_name in df.columns if df[columns_name].dtype == \"O\"]\n",
        "print(f\"the number of categorical features present in the dataset: {len(cFeatures)}  \")\n",
        "print(f\"the categorical features present are as follows {cFeatures} \") #Date is now removed from the categorical features "
      ],
      "metadata": {
        "colab": {
          "base_uri": "https://localhost:8080/"
        },
        "id": "_-o6L6qyRQM_",
        "outputId": "7d617d05-f9ba-4159-9f34-539db0fac09e"
      },
      "execution_count": null,
      "outputs": [
        {
          "output_type": "stream",
          "name": "stdout",
          "text": [
            "the number of categorical features present in the dataset: 6  \n",
            "the categorical features present are as follows ['Location', 'WindGustDir', 'WindDir9am', 'WindDir3pm', 'RainToday', 'RainTomorrow'] \n"
          ]
        }
      ]
    },
    {
      "cell_type": "code",
      "source": [
        "df[cFeatures].isnull().sum() #To find out the number of Null VAlues present in the dataset "
      ],
      "metadata": {
        "colab": {
          "base_uri": "https://localhost:8080/"
        },
        "id": "mB_pR_XcSG9C",
        "outputId": "8352a1c2-5eca-4fb3-9c6b-bc9233752aa0"
      },
      "execution_count": null,
      "outputs": [
        {
          "output_type": "execute_result",
          "data": {
            "text/plain": [
              "Location            0\n",
              "WindGustDir     10326\n",
              "WindDir9am      10566\n",
              "WindDir3pm       4228\n",
              "RainToday        3261\n",
              "RainTomorrow     3267\n",
              "dtype: int64"
            ]
          },
          "metadata": {},
          "execution_count": 55
        }
      ]
    },
    {
      "cell_type": "code",
      "source": [
        "categorical_nulls = [features for features in cFeatures if df[features].isnull().sum()] #For loop in whih this list will return the categorical values\n",
        "for variable in categorical_nulls:\n",
        "    df[variable] = df[variable].fillna(df[variable].mode()[0])  #Each feature is filled by most repeated value\n",
        "df[cFeatures].isnull().sum()  "
      ],
      "metadata": {
        "colab": {
          "base_uri": "https://localhost:8080/"
        },
        "id": "B6Duz6AWSQNG",
        "outputId": "c8b46930-751f-4f95-96a5-700ae0ffdd78"
      },
      "execution_count": null,
      "outputs": [
        {
          "output_type": "execute_result",
          "data": {
            "text/plain": [
              "Location        0\n",
              "WindGustDir     0\n",
              "WindDir9am      0\n",
              "WindDir3pm      0\n",
              "RainToday       0\n",
              "RainTomorrow    0\n",
              "dtype: int64"
            ]
          },
          "metadata": {},
          "execution_count": 56
        }
      ]
    },
    {
      "cell_type": "code",
      "source": [
        "#Now we deal with the Null values in the Numerical Category \n",
        "\n",
        "nFeatures = [columns_name for columns_name in df.columns if df[columns_name].dtype != \"O\"]\n",
        "print(f\"the number of numerical features present in the dataset: {len(nFeatures)}  \")\n",
        "print(f\"the numerical features present are as follows {nFeatures} \")"
      ],
      "metadata": {
        "colab": {
          "base_uri": "https://localhost:8080/"
        },
        "id": "-t8-AKs4TM1A",
        "outputId": "f83893de-3002-4cb7-b768-f612751597d5"
      },
      "execution_count": null,
      "outputs": [
        {
          "output_type": "stream",
          "name": "stdout",
          "text": [
            "the number of numerical features present in the dataset: 19  \n",
            "the numerical features present are as follows ['MinTemp', 'MaxTemp', 'Rainfall', 'Evaporation', 'Sunshine', 'WindGustSpeed', 'WindSpeed9am', 'WindSpeed3pm', 'Humidity9am', 'Humidity3pm', 'Pressure9am', 'Pressure3pm', 'Cloud9am', 'Cloud3pm', 'Temp9am', 'Temp3pm', 'year', 'month', 'day'] \n"
          ]
        }
      ]
    },
    {
      "cell_type": "code",
      "source": [
        "num_null = df[nFeatures].isnull().sum()\n",
        "\n",
        "num_null"
      ],
      "metadata": {
        "colab": {
          "base_uri": "https://localhost:8080/"
        },
        "id": "Jm5eVwwXTcl3",
        "outputId": "4094d99d-8698-4724-cf76-a44ed4be61d8"
      },
      "execution_count": null,
      "outputs": [
        {
          "output_type": "execute_result",
          "data": {
            "text/plain": [
              "MinTemp           1485\n",
              "MaxTemp           1261\n",
              "Rainfall          3261\n",
              "Evaporation      62790\n",
              "Sunshine         69835\n",
              "WindGustSpeed    10263\n",
              "WindSpeed9am      1767\n",
              "WindSpeed3pm      3062\n",
              "Humidity9am       2654\n",
              "Humidity3pm       4507\n",
              "Pressure9am      15065\n",
              "Pressure3pm      15028\n",
              "Cloud9am         55888\n",
              "Cloud3pm         59358\n",
              "Temp9am           1767\n",
              "Temp3pm           3609\n",
              "year                 0\n",
              "month                0\n",
              "day                  0\n",
              "dtype: int64"
            ]
          },
          "metadata": {},
          "execution_count": 58
        }
      ]
    },
    {
      "cell_type": "code",
      "source": [
        "only_num_null = [column for column in nFeatures if df[column].isnull().sum()]\n",
        "missing_num = df[only_num_null].isnull().sum() #Since year, month and day have no null values \n",
        "\n",
        "#We are assigning missing_num to be the null values dataframe"
      ],
      "metadata": {
        "id": "CyeyiarKTo9d"
      },
      "execution_count": null,
      "outputs": []
    },
    {
      "cell_type": "code",
      "source": [
        "#For numerical values we cannot immediately impute the null values we need to check for outliers first \n",
        "\n",
        "plt.figure(figsize=(12,10))\n",
        "df.boxplot(only_num_null,rot = 90)"
      ],
      "metadata": {
        "colab": {
          "base_uri": "https://localhost:8080/",
          "height": 737
        },
        "id": "4ChExRzgT_5j",
        "outputId": "dfc225fe-aeac-48a8-ad81-6bef6f479da9"
      },
      "execution_count": null,
      "outputs": [
        {
          "output_type": "stream",
          "name": "stderr",
          "text": [
            "/usr/local/lib/python3.7/dist-packages/numpy/core/_asarray.py:83: VisibleDeprecationWarning: Creating an ndarray from ragged nested sequences (which is a list-or-tuple of lists-or-tuples-or ndarrays with different lengths or shapes) is deprecated. If you meant to do this, you must specify 'dtype=object' when creating the ndarray\n",
            "  return array(a, dtype, copy=False, order=order)\n"
          ]
        },
        {
          "output_type": "execute_result",
          "data": {
            "text/plain": [
              "<matplotlib.axes._subplots.AxesSubplot at 0x7f9f459aa710>"
            ]
          },
          "metadata": {},
          "execution_count": 60
        },
        {
          "output_type": "display_data",
          "data": {
            "image/png": "[encoded data removed]",
            "text/plain": [
              "<Figure size 864x720 with 1 Axes>"
            ]
          },
          "metadata": {
            "needs_background": "light"
          }
        }
      ]
    },
    {
      "cell_type": "code",
      "source": [
        "#As we can see there a lot of outliers, we can handle this using the IQR methood \n",
        "\n",
        "\n",
        "for feature in only_num_null:\n",
        "    q1 = df[feature].quantile(0.25)\n",
        "    q3 = df[feature].quantile(0.75)\n",
        "    IQR = q3-q1\n",
        "    lower_limit = q1 - (IQR*1.5)\n",
        "    upper_limit = q3 + (IQR*1.5)\n",
        "    df.loc[df[feature]<lower_limit, feature] = lower_limit\n",
        "    df.loc[df[feature]>upper_limit, feature] = upper_limit"
      ],
      "metadata": {
        "id": "unOj7hbcUOQ2"
      },
      "execution_count": null,
      "outputs": []
    },
    {
      "cell_type": "code",
      "source": [
        "plt.figure(figsize=(12,10))\n",
        "df.boxplot(only_num_null,rot = 90) #Now the outliers have been taken care of "
      ],
      "metadata": {
        "colab": {
          "base_uri": "https://localhost:8080/",
          "height": 737
        },
        "id": "Bs17gPPVUepA",
        "outputId": "800ca85e-c0af-45c2-9916-8f428bce989b"
      },
      "execution_count": null,
      "outputs": [
        {
          "output_type": "stream",
          "name": "stderr",
          "text": [
            "/usr/local/lib/python3.7/dist-packages/numpy/core/_asarray.py:83: VisibleDeprecationWarning: Creating an ndarray from ragged nested sequences (which is a list-or-tuple of lists-or-tuples-or ndarrays with different lengths or shapes) is deprecated. If you meant to do this, you must specify 'dtype=object' when creating the ndarray\n",
            "  return array(a, dtype, copy=False, order=order)\n"
          ]
        },
        {
          "output_type": "execute_result",
          "data": {
            "text/plain": [
              "<matplotlib.axes._subplots.AxesSubplot at 0x7f9f459af2d0>"
            ]
          },
          "metadata": {},
          "execution_count": 62
        },
        {
          "output_type": "display_data",
          "data": {
            "image/png": "[encoded data removed]",
            "text/plain": [
              "<Figure size 864x720 with 1 Axes>"
            ]
          },
          "metadata": {
            "needs_background": "light"
          }
        }
      ]
    },
    {
      "cell_type": "code",
      "source": [
        "for features in only_num_null:\n",
        "    df[features] = df[features].fillna(df[features].mean()) #Now we can fill in the missing values with the mean\n",
        "\n",
        "df[only_num_null].isnull().sum() "
      ],
      "metadata": {
        "colab": {
          "base_uri": "https://localhost:8080/"
        },
        "id": "RZ-3M_VMUk1T",
        "outputId": "52362e28-2a5d-4d1d-e2d5-f0da5c5ce2de"
      },
      "execution_count": null,
      "outputs": [
        {
          "output_type": "execute_result",
          "data": {
            "text/plain": [
              "MinTemp          0\n",
              "MaxTemp          0\n",
              "Rainfall         0\n",
              "Evaporation      0\n",
              "Sunshine         0\n",
              "WindGustSpeed    0\n",
              "WindSpeed9am     0\n",
              "WindSpeed3pm     0\n",
              "Humidity9am      0\n",
              "Humidity3pm      0\n",
              "Pressure9am      0\n",
              "Pressure3pm      0\n",
              "Cloud9am         0\n",
              "Cloud3pm         0\n",
              "Temp9am          0\n",
              "Temp3pm          0\n",
              "dtype: int64"
            ]
          },
          "metadata": {},
          "execution_count": 63
        }
      ]
    },
    {
      "cell_type": "code",
      "source": [
        "sns.countplot(x = \"RainTomorrow\", data = df) #We can see that most days it did not rain the next day "
      ],
      "metadata": {
        "colab": {
          "base_uri": "https://localhost:8080/",
          "height": 298
        },
        "id": "kxw9Z-T6U3Py",
        "outputId": "133c39c8-ea69-4cc6-9aaa-56276f2aa449"
      },
      "execution_count": null,
      "outputs": [
        {
          "output_type": "execute_result",
          "data": {
            "text/plain": [
              "<matplotlib.axes._subplots.AxesSubplot at 0x7f9f45688f90>"
            ]
          },
          "metadata": {},
          "execution_count": 64
        },
        {
          "output_type": "display_data",
          "data": {
            "image/png": "[encoded data removed]",
            "text/plain": [
              "<Figure size 432x288 with 1 Axes>"
            ]
          },
          "metadata": {
            "needs_background": "light"
          }
        }
      ]
    },
    {
      "cell_type": "code",
      "source": [
        "categorical = [i for i in df.columns if df[i].dtype == \"O\"]\n",
        "\n",
        "categorical"
      ],
      "metadata": {
        "colab": {
          "base_uri": "https://localhost:8080/"
        },
        "id": "6QXNFUBlVHgE",
        "outputId": "4898ef33-22ef-4477-da1f-4fece3b89639"
      },
      "execution_count": null,
      "outputs": [
        {
          "output_type": "execute_result",
          "data": {
            "text/plain": [
              "['Location',\n",
              " 'WindGustDir',\n",
              " 'WindDir9am',\n",
              " 'WindDir3pm',\n",
              " 'RainToday',\n",
              " 'RainTomorrow']"
            ]
          },
          "metadata": {},
          "execution_count": 65
        }
      ]
    },
    {
      "cell_type": "code",
      "source": [
        "def encoding(feature):\n",
        "    mapping = {} \n",
        "    unique = list(df[feature].unique()) # getting unique qualitative values\n",
        "    for index in range(len(unique)): \n",
        "        mapping[unique[index]] = index # converting to a numerical representation\n",
        "    return mapping                     \n",
        "\n",
        "# applying the function to our data\n",
        "for category in categorical:\n",
        "    df[category].replace(encoding(category), inplace = True)\n",
        "    \n",
        "print(df.head()) # and this finishes our encoding"
      ],
      "metadata": {
        "colab": {
          "base_uri": "https://localhost:8080/"
        },
        "id": "ro9Dm8_SVdDj",
        "outputId": "af56b0c3-81af-4570-e6ec-fe18cb11197b"
      },
      "execution_count": null,
      "outputs": [
        {
          "output_type": "stream",
          "name": "stdout",
          "text": [
            "   Location  MinTemp  MaxTemp  Rainfall  ...  RainTomorrow  year  month  day\n",
            "0         0     13.4     22.9       0.6  ...             0  2008     12    1\n",
            "1         0      7.4     25.1       0.0  ...             0  2008     12    2\n",
            "2         0     12.9     25.7       0.0  ...             0  2008     12    3\n",
            "3         0      9.2     28.0       0.0  ...             0  2008     12    4\n",
            "4         0     17.5     32.3       1.0  ...             0  2008     12    5\n",
            "\n",
            "[5 rows x 25 columns]\n"
          ]
        }
      ]
    },
    {
      "cell_type": "markdown",
      "source": [
        "#Training "
      ],
      "metadata": {
        "id": "WhVdj4b0WL4Q"
      }
    },
    {
      "cell_type": "code",
      "source": [
        "\n",
        "y = df[\"RainTomorrow\"]  # dependent or target \n",
        "X = df.drop([\"RainTomorrow\"],axis = 1)  # indepedent or input"
      ],
      "metadata": {
        "id": "XQqUivGfWHTJ"
      },
      "execution_count": null,
      "outputs": []
    },
    {
      "cell_type": "code",
      "source": [
        "smote_object = SMOTE()\n",
        "\n",
        "X, y = smote_object.fit_resample(X, y)"
      ],
      "metadata": {
        "id": "kmcdj_KzWU9S"
      },
      "execution_count": null,
      "outputs": []
    },
    {
      "cell_type": "code",
      "source": [
        "X_train, X_test, y_train, y_test = train_test_split(X, y, test_size = 0.3, random_state = 0)"
      ],
      "metadata": {
        "id": "UMp8cIhcY8f2"
      },
      "execution_count": null,
      "outputs": []
    },
    {
      "cell_type": "code",
      "source": [
        "forest1 = RandomForestClassifier(n_estimators=1)50\n",
        "\n",
        "\n",
        "forest1.fit(X_train, y_train)"
      ],
      "metadata": {
        "colab": {
          "base_uri": "https://localhost:8080/"
        },
        "id": "fu5bkZ1LY-v7",
        "outputId": "a447d19c-aecb-43ab-f6b5-cc199400695b"
      },
      "execution_count": null,
      "outputs": [
        {
          "output_type": "execute_result",
          "data": {
            "text/plain": [
              "RandomForestClassifier(n_estimators=150)"
            ]
          },
          "metadata": {},
          "execution_count": 70
        }
      ]
    },
    {
      "cell_type": "code",
      "source": [
        "forest1_predictions = forest1.predict(X_test)\n",
        "print(\"Accuracy: \" + str(metrics.accuracy_score(y_test, forest1_predictions)*100) +\"%\")"
      ],
      "metadata": {
        "colab": {
          "base_uri": "https://localhost:8080/"
        },
        "id": "wdLxy8acZaGS",
        "outputId": "08278653-7b26-4210-8c8c-ffdc5c7af640"
      },
      "execution_count": null,
      "outputs": [
        {
          "output_type": "stream",
          "name": "stdout",
          "text": [
            "Accuracy: 90.3360234776229%\n"
          ]
        }
      ]
    },
    {
      "cell_type": "code",
      "source": [
        "feature_importance = pd.Series(forest1.feature_importances_,index=X.columns).sort_values(ascending=False)\n",
        "feature_importance \n",
        "\n",
        "#Checking out the feature Importance \n"
      ],
      "metadata": {
        "colab": {
          "base_uri": "https://localhost:8080/"
        },
        "id": "63T6OtzOZteL",
        "outputId": "ac07860c-97bc-4382-dfd2-d549395c0fec"
      },
      "execution_count": null,
      "outputs": [
        {
          "output_type": "execute_result",
          "data": {
            "text/plain": [
              "Humidity3pm      0.147568\n",
              "Rainfall         0.109554\n",
              "Cloud3pm         0.075991\n",
              "Sunshine         0.066842\n",
              "Cloud9am         0.050237\n",
              "WindGustSpeed    0.050052\n",
              "Pressure3pm      0.048508\n",
              "Humidity9am      0.046758\n",
              "Pressure9am      0.041574\n",
              "Temp3pm          0.032199\n",
              "MinTemp          0.032020\n",
              "MaxTemp          0.031397\n",
              "Temp9am          0.029365\n",
              "WindSpeed3pm     0.028400\n",
              "Location         0.027196\n",
              "WindSpeed9am     0.026094\n",
              "day              0.023899\n",
              "Evaporation      0.022435\n",
              "WindGustDir      0.021511\n",
              "WindDir3pm       0.020567\n",
              "month            0.020175\n",
              "WindDir9am       0.018525\n",
              "year             0.018110\n",
              "RainToday        0.011024\n",
              "dtype: float64"
            ]
          },
          "metadata": {},
          "execution_count": 72
        }
      ]
    },
    {
      "cell_type": "code",
      "source": [
        "X = X.drop([\"RainToday\", \"year\", \"WindDir9am\"],axis = 1) #Since these have a feature importance of less than 0.02"
      ],
      "metadata": {
        "id": "wanH6NVZaAAY"
      },
      "execution_count": null,
      "outputs": []
    },
    {
      "cell_type": "code",
      "source": [
        "X_train_2, X_test_2, y_train_2, y_test_2 = train_test_split(X, y, test_size = 0.3, random_state = 0)"
      ],
      "metadata": {
        "id": "XBnf_nXba8Sn"
      },
      "execution_count": null,
      "outputs": []
    },
    {
      "cell_type": "code",
      "source": [
        "forest2 = RandomForestClassifier(n_estimators=200)\n",
        "forest2.fit(X_train_2, y_train_2)"
      ],
      "metadata": {
        "colab": {
          "base_uri": "https://localhost:8080/"
        },
        "id": "AvYzUtMobDeL",
        "outputId": "1495a1e9-f071-4afd-e53c-2959735fe33f"
      },
      "execution_count": null,
      "outputs": [
        {
          "output_type": "execute_result",
          "data": {
            "text/plain": [
              "RandomForestClassifier(n_estimators=200)"
            ]
          },
          "metadata": {},
          "execution_count": 75
        }
      ]
    },
    {
      "cell_type": "code",
      "source": [
        "forest2_predictions = forest2.predict(X_test_2)"
      ],
      "metadata": {
        "id": "pJkH3LgdbtCt"
      },
      "execution_count": null,
      "outputs": []
    },
    {
      "cell_type": "code",
      "source": [
        "print(\"Accuracy: \" + str(metrics.accuracy_score(y_test_2, forest2_predictions)*100) +\"%\") #The accuracy went down "
      ],
      "metadata": {
        "colab": {
          "base_uri": "https://localhost:8080/"
        },
        "id": "BkK3t8J7b1Vp",
        "outputId": "3c270e5c-4f6e-4b6d-a630-dad4110176b4"
      },
      "execution_count": null,
      "outputs": [
        {
          "output_type": "stream",
          "name": "stdout",
          "text": [
            "Accuracy: 90.31841526045487%\n"
          ]
        }
      ]
    }
  ]
}